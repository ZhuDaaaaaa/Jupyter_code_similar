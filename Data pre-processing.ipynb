{
 "cells": [
  {
   "cell_type": "code",
   "execution_count": 48,
   "metadata": {},
   "outputs": [],
   "source": [
    "import os,shutil\n",
    "import sys\n",
    "import numpy as np\n",
    "import glob"
   ]
  },
  {
   "cell_type": "code",
   "execution_count": 210,
   "metadata": {},
   "outputs": [
    {
     "name": "stdout",
     "output_type": "stream",
     "text": [
      "<enumerate object at 0x00000252F97958B8>\n"
     ]
    }
   ],
   "source": [
    "dir_path0 = \"./data/\"  \n",
    "\n",
    "delete_files = glob.glob(\"./data/A_Assignment 1/Assignment 1/all/bbmh28/*.ipynb\")\n",
    "delete_files.sort()\n",
    "print(enumerate(delete_files[:-1]))\n",
    "for ifl, fl in enumerate(delete_files[:-1]):\n",
    "    if delete_files[ifl+1].startswith(fl[:10]):    \n",
    "        os.unlink(fl)                       \n",
    "        \n"
   ]
  },
  {
   "cell_type": "code",
   "execution_count": 257,
   "metadata": {},
   "outputs": [],
   "source": [
    "for dirpath,dirnames,filenames in os.walk(dir_path0):\n",
    "        for files in filenames:\n",
    "            total_path = glob.glob(os.path.join(dirpath,files))\n",
    "            total_path.sort()\n",
    "            for ifl, fl in total_path[:-1]:\n",
    "                if total_path[ifl+1].startswith(fl[:10]):    #Check if next file is same day\n",
    "                    os.remove(fl)    \n",
    "           \n",
    "            \n",
    "           \n",
    "        \n",
    "            \n",
    "            "
   ]
  },
  {
   "cell_type": "code",
   "execution_count": null,
   "metadata": {},
   "outputs": [],
   "source": [
    "dir_path0 = \"./data/\"    \n",
    "def arrange_file(dir_path0):\n",
    "    for dirpath,dirnames,filenames in os.walk(dir_path0):\n",
    "        for files in filenames:\n",
    "            total_path = os.path.join(dirpath,files)\n",
    "            root_path,file_path = total_path.split(dir_path0,1)\n",
    "            # print(file_path[:-48])\n",
    "            # return 0\n",
    "            if 'jpg' in file_path:\n",
    "                new_file_path = dir_path0 + file_path[:-48]\n",
    "                shutil.move(dir_path0 + file_path,new_file_path + file_path[-9:])\n",
    "\n",
    "    for dirpath,dirnames,filenames in os.walk(dir_path0):\n",
    "        file_path = dirpath.split('./your_total_path')[1]\n",
    "        if 'keywords' in file_path:\n",
    "           # print(dirpath) \n",
    "            shutil.rmtree(dirpath)\n",
    "\n"
   ]
  },
  {
   "cell_type": "code",
   "execution_count": 34,
   "metadata": {},
   "outputs": [],
   "source": [
    "\n"
   ]
  },
  {
   "cell_type": "code",
   "execution_count": 24,
   "metadata": {},
   "outputs": [
    {
     "name": "stdout",
     "output_type": "stream",
     "text": [
      "文件./data/Assignment 1重命名成功,新的文件名为./data/A_Assignment 1\n",
      "文件./data/Assignment 2重命名成功,新的文件名为./data/A_Assignment 2\n",
      "文件./data/Assignment 3重命名成功,新的文件名为./data/A_Assignment 3\n",
      "文件./data/Assignment 4重命名成功,新的文件名为./data/A_Assignment 4\n",
      "文件./data/Assignment 5重命名成功,新的文件名为./data/A_Assignment 5\n",
      "文件./data/Assignment 6重命名成功,新的文件名为./data/A_Assignment 6\n",
      "文件./data/Assignment 7重命名成功,新的文件名为./data/A_Assignment 7\n",
      "文件./data/Assignment 8重命名成功,新的文件名为./data/A_Assignment 8\n"
     ]
    }
   ],
   "source": [
    "path = \"./data/\"    # 目标路径\n",
    "\n",
    "filename_list = os.listdir(path)  # 扫描目标路径的文件,将文件名存入列表\n",
    "\n",
    "a = 0\n",
    "for i in filename_list:\n",
    "    used_name = path + filename_list[a]\n",
    "    new_name = path + \"A_\" + filename_list[a]\n",
    "    os.rename(used_name,new_name)\n",
    "    print(\"文件%s重命名成功,新的文件名为%s\" %(used_name,new_name))\n",
    "    a += 1"
   ]
  },
  {
   "cell_type": "code",
   "execution_count": 2,
   "metadata": {},
   "outputs": [
    {
     "name": "stdout",
     "output_type": "stream",
     "text": [
      "\n",
      "import numpy\n",
      "import matplotlib.pyplot as plt\n",
      "def f(x):\n",
      "    return numpy.cos(x);\n",
      "    \n",
      "\n",
      "def df_analytic(x):\n",
      "    return -numpy.sin(x);\n",
      "def backward_difference(f, x, dx):\n",
      "    return (f(x)-f(x-dx))/dx;\n",
      "xs = numpy.linspace(-2*numpy.pi,2*numpy.pi,100)\n",
      "df_dx_1 = backward_difference(f, xs, dx=1e-14)\n",
      "df_dx_2 = backward_difference(f, xs, dx=1e-4)\n",
      "df_dx_3 = backward_difference(f, xs, dx=1e-2)\n",
      "df_dx_analytical = df_analytic(xs)\n",
      "plt.figure(figsize=(8, 4))\n",
      "plt.plot(xs, df_dx_1 - df_dx_analytical, label='too small dx')\n",
      "plt.plot(xs, df_dx_2 - df_dx_analytical, label='about right dx')\n",
      "plt.plot(xs, df_dx_3-df_dx_analytical, label='too large dx')\n",
      "plt.xlabel('x value')\n",
      "plt.ylabel('analytical derivative - numerical derivative')\n",
      "plt.legend()\n",
      "plt.title('Difference between value of the analytical derivative and the numerical derivative when dx is varied')\n"
     ]
    }
   ],
   "source": [
    "import nbformat\n",
    "\n",
    "def isComment(line):\n",
    "    stripped = line.strip()\n",
    "    if stripped and stripped[0] == '#':\n",
    "        return True\n",
    "    return False\n",
    "\n",
    "def isMagic(line):\n",
    "    stripped = line.strip()\n",
    "    if stripped and stripped[0] == '%':\n",
    "        return True\n",
    "    return False\n",
    "\n",
    "def sanitize(txt):\n",
    "    lines = txt.split('\\n')\n",
    "    okLines = [l for l in lines if not isComment(l)]\n",
    "    okLines = [l for l in okLines if not isMagic(l)]\n",
    "    return '\\n'.join(okLines)\n",
    "\n",
    "def getSourceWithoutTests(filename):\n",
    "    nb = nbformat.read(filename, 4)\n",
    "   \n",
    "    allCode = ''\n",
    "    for c in nb.cells:\n",
    "        if c['cell_type'] == 'code':\n",
    "            if 'nbgrader' in c['metadata'].keys():\n",
    "                if c['metadata'].get('editable', True) == False:\n",
    "                    if  c['metadata']['nbgrader'].get('locked',False) == True:\n",
    "                        # this is a test cell, remove\n",
    "                        continue\n",
    "\n",
    "            #print(c)\n",
    "            allCode += '\\n'\n",
    "            allCode += sanitize(c['source'])\n",
    "    return allCode\n",
    "\n",
    "wd='data/Assignment 1/Assignment 1/last/'\n",
    "f = 'fa3905.ipynb'\n",
    "filename = wd + f\n",
    "print(getSourceWithoutTests(filename))"
   ]
  },
  {
   "cell_type": "code",
   "execution_count": null,
   "metadata": {},
   "outputs": [],
   "source": []
  }
 ],
 "metadata": {
  "kernelspec": {
   "display_name": "Python 3",
   "language": "python",
   "name": "python3"
  },
  "language_info": {
   "codemirror_mode": {
    "name": "ipython",
    "version": 3
   },
   "file_extension": ".py",
   "mimetype": "text/x-python",
   "name": "python",
   "nbconvert_exporter": "python",
   "pygments_lexer": "ipython3",
   "version": "3.7.6"
  }
 },
 "nbformat": 4,
 "nbformat_minor": 4
}
