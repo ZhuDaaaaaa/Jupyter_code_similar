{
 "cells": [
  {
   "cell_type": "code",
   "execution_count": 1,
   "metadata": {},
   "outputs": [],
   "source": [
    "import os\n",
    "import nbformat\n",
    "import similar"
   ]
  },
  {
   "cell_type": "code",
   "execution_count": 2,
   "metadata": {},
   "outputs": [],
   "source": [
    "def isComment(line):\n",
    "    stripped = line.strip()\n",
    "    if stripped and stripped[0] == '#':\n",
    "        return True\n",
    "    return False\n",
    "\n",
    "\n",
    "def isMagic(line):\n",
    "    stripped = line.strip()\n",
    "    if stripped and stripped[0] == '%':\n",
    "        return True\n",
    "    return False\n",
    "\n",
    "\n",
    "def sanitize(txt):\n",
    "    lines = txt.split('\\n')\n",
    "    okLines = [l for l in lines if not isComment(l)]\n",
    "    okLines = [l for l in okLines if not isMagic(l)]\n",
    "    return '\\n'.join(okLines)\n",
    "\n",
    "\n",
    "def getSourceWithoutTests(filename):\n",
    "    nb = nbformat.read(filename, 4)\n",
    "    allCode = ''\n",
    "    for c in nb.cells:\n",
    "        if c['cell_type'] == 'code':\n",
    "            if 'nbgrader' in c['metadata'].keys():\n",
    "                if c['metadata'].get('editable', True) == False:\n",
    "                    if c['metadata']['nbgrader'].get('locked', False) == True:\n",
    "                        # this is a test cell, remove\n",
    "                        continue\n",
    "\n",
    "            # print(c)\n",
    "            allCode += '\\n'\n",
    "            allCode += sanitize(c['source'])\n",
    "\n",
    "    return allCode\n"
   ]
  },
  {
   "cell_type": "code",
   "execution_count": 3,
   "metadata": {},
   "outputs": [],
   "source": [
    "def compare_two_files(ref, candidate):\n",
    "\n",
    "#     比较两个文件，并返回结果\n",
    "\n",
    "    ref_code = getSourceWithoutTests(ref)\n",
    "    candidate_code = getSourceWithoutTests(candidate)\n",
    "    try:\n",
    "        results = similar.detect([ref_code, candidate_code])\n",
    "\n",
    "        sum_percent = sum(func_diff_info.plagiarism_percent for func_diff_info in results[0][1])\n",
    "#         sum_total_count = sum(func_diff_info.total_count for func_diff_info in results[0][1])\n",
    "#         sum_plagiarism_count = sum(func_diff_info.plagiarism_count for func_diff_info in results[0][1])\n",
    "\n",
    "        # return sum_plagiarism_count / float(sum_total_count) * 100\n",
    "#         print(len(results[0][1]))\n",
    "        return sum_percent / len(results[0][1]) * 100\n",
    "\n",
    "\n",
    "    except similar.NoFuncException as ex:\n",
    "        print('error: can not find functions from {}.'.format(ex.source))\n",
    "        return 0\n"
   ]
  },
  {
   "cell_type": "code",
   "execution_count": 4,
   "metadata": {},
   "outputs": [],
   "source": [
    "def generate_str(ref, candidate, percent):\n",
    "\n",
    "#     通过模板，生成HTML结果文件中的内容\n",
    "\n",
    "    li_template = '''<li style=\"color:{0};\"><span>reference file : {1}&nbsp;</span><span>candidate file : {2}&nbsp;</span><span>&nbsp;{3}%</span></li></br>'''\n",
    "    if percent >= 70:\n",
    "        color = 'red'\n",
    "    elif percent >= 30:\n",
    "        color = 'blue'\n",
    "    else:\n",
    "        color = 'black'\n",
    "    return li_template.format(color, ref, candidate, round(percent, 2))\n"
   ]
  },
  {
   "cell_type": "code",
   "execution_count": 5,
   "metadata": {},
   "outputs": [
    {
     "ename": "IndentationError",
     "evalue": "expected an indented block (<unknown>, line 45)",
     "output_type": "error",
     "traceback": [
      "Traceback \u001b[1;36m(most recent call last)\u001b[0m:\n",
      "  File \u001b[0;32m\"F:\\Anaconda\\lib\\site-packages\\IPython\\core\\interactiveshell.py\"\u001b[0m, line \u001b[0;32m3331\u001b[0m, in \u001b[0;35mrun_code\u001b[0m\n    exec(code_obj, self.user_global_ns, self.user_ns)\n",
      "  File \u001b[0;32m\"<ipython-input-5-449e8b57569a>\"\u001b[0m, line \u001b[0;32m36\u001b[0m, in \u001b[0;35m<module>\u001b[0m\n    percent1 = compare_two_files(ref, candidate)\n",
      "  File \u001b[0;32m\"<ipython-input-3-25e4ab64da8e>\"\u001b[0m, line \u001b[0;32m8\u001b[0m, in \u001b[0;35mcompare_two_files\u001b[0m\n    results = similar.detect([ref_code, candidate_code])\n",
      "  File \u001b[0;32m\"C:\\Users\\54149\\PythonWorkplace\\Project\\similar.py\"\u001b[0m, line \u001b[0;32m454\u001b[0m, in \u001b[0;35mdetect\u001b[0m\n    root_node = ast.parse(code_str)\n",
      "\u001b[1;36m  File \u001b[1;32m\"F:\\Anaconda\\lib\\ast.py\"\u001b[1;36m, line \u001b[1;32m35\u001b[1;36m, in \u001b[1;35mparse\u001b[1;36m\u001b[0m\n\u001b[1;33m    return compile(source, filename, mode, PyCF_ONLY_AST)\u001b[0m\n",
      "\u001b[1;36m  File \u001b[1;32m\"<unknown>\"\u001b[1;36m, line \u001b[1;32m45\u001b[0m\n\u001b[1;33m    walkersteps2= numpy.empty((nsteps+1, nwalkers))\u001b[0m\n\u001b[1;37m               ^\u001b[0m\n\u001b[1;31mIndentationError\u001b[0m\u001b[1;31m:\u001b[0m expected an indented block\n"
     ]
    }
   ],
   "source": [
    "if __name__ == '__main__':\n",
    "    # 用来生成结果文件的模板\n",
    "    html_template = '''\n",
    "    <!DOCTYPE html>\n",
    "<html lang=\"en\">\n",
    "<head>\n",
    "    <meta charset=\"UTF-8\">\n",
    "    <title>Plagiarism Detection</title>\n",
    "</head>\n",
    "<body>\n",
    "<h1 style=\"text-align: center;\">Plagiarism Detection</h1>\n",
    "<ul>\n",
    "  {0}\n",
    "</ul>\n",
    "</body>\n",
    "</html>\n",
    "'''\n",
    "    li_template = '''<li style=\"color:{0};\"><span>{1}&nbsp;</span><span>{2}&nbsp;</span><span>&nbsp;{3}%</span></li>'''\n",
    "    # 目前所有的代码放这个目录下\n",
    "    path = './data/Assignment 8/RandomWalk/last/'\n",
    "\n",
    "    # 读取所有的文件目录\n",
    "    filenames = []\n",
    "    for filename in os.listdir(path):\n",
    "        file_path = os.path.join(path, filename)\n",
    "        if file_path.endswith('ipynb'):\n",
    "            filenames.append(file_path)\n",
    "\n",
    "    li_str = ''\n",
    "    results = []\n",
    "    for i in range(len(filenames)):\n",
    "        for j in range(i + 1, len(filenames)):\n",
    "            ref = filenames[i]\n",
    "            candidate = filenames[j]\n",
    "            # 计算ab相似度\n",
    "            percent1 = compare_two_files(ref, candidate)\n",
    "            # 计算ba相似度\n",
    "            percent2 = compare_two_files(candidate, ref)\n",
    "\n",
    "            results.append([ref, candidate, percent1])\n",
    "            results.append([candidate, ref, percent2])\n",
    "\n",
    "    # 排序\n",
    "    sorted_results = reversed(sorted(results, key=lambda x: x[-1]))\n",
    "    # 生成html内容\n",
    "    for result in sorted_results:\n",
    "        li_str += generate_str(result[0], result[1], result[2])\n",
    "    # 将结果写入html\n",
    "    with open('比较结果3.html', 'w') as f:\n",
    "        f.write(html_template.format(li_str))\n",
    "\n"
   ]
  },
  {
   "cell_type": "code",
   "execution_count": null,
   "metadata": {},
   "outputs": [],
   "source": []
  },
  {
   "cell_type": "code",
   "execution_count": null,
   "metadata": {},
   "outputs": [],
   "source": []
  }
 ],
 "metadata": {
  "kernelspec": {
   "display_name": "Python 3",
   "language": "python",
   "name": "python3"
  },
  "language_info": {
   "codemirror_mode": {
    "name": "ipython",
    "version": 3
   },
   "file_extension": ".py",
   "mimetype": "text/x-python",
   "name": "python",
   "nbconvert_exporter": "python",
   "pygments_lexer": "ipython3",
   "version": "3.7.6"
  }
 },
 "nbformat": 4,
 "nbformat_minor": 4
}
