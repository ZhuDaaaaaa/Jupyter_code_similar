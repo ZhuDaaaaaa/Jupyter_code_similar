{
 "cells": [
  {
   "cell_type": "code",
   "execution_count": 1,
   "metadata": {},
   "outputs": [],
   "source": [
    "import ast\n",
    "import os\n",
    "import nbformat\n",
    "import Levenshtein\n",
    "import numpy as np\n",
    "import math\n",
    "from statistics import mean"
   ]
  },
  {
   "cell_type": "code",
   "execution_count": 2,
   "metadata": {},
   "outputs": [],
   "source": [
    "class VectorCollector(ast.NodeVisitor):\n",
    "    def __init__(self):\n",
    "        self.vector = [0 for i in range(32)]\n",
    "\n",
    "    def generic_visit(self, node):\n",
    "        if isinstance(node, (ast.arguments)):\n",
    "            self.vector[0] += 1\n",
    "        elif isinstance(node, (ast.Str)):\n",
    "            self.vector[1] += 1\n",
    "        elif isinstance(node, (ast.Param)):\n",
    "            self.vector[2] += 1\n",
    "        elif isinstance(node, (ast.Tuple)):\n",
    "            self.vector[3] += 1\n",
    "        elif isinstance(node, (ast.Compare)):\n",
    "            self.vector[4] += 1\n",
    "        elif isinstance(node, (ast.For)):\n",
    "            self.vector[5] += 1\n",
    "        elif isinstance(node, (ast.Add)):\n",
    "            self.vector[6] += 1\n",
    "        elif isinstance(node, (ast.Expr)):\n",
    "            self.vector[7] += 1\n",
    "        elif isinstance(node, (ast.Assign)):\n",
    "            self.vector[8] += 1\n",
    "        elif isinstance(node, (ast.Store)):\n",
    "            self.vector[9] += 1\n",
    "        elif isinstance(node, (ast.Import)):\n",
    "            self.vector[10] += 1\n",
    "        elif isinstance(node, (ast.Eq)):\n",
    "            self.vector[11] += 1\n",
    "        elif isinstance(node, (ast.Num)):\n",
    "            self.vector[12] += 1\n",
    "        elif isinstance(node, (ast.Return)):\n",
    "            self.vector[13] += 1\n",
    "        elif isinstance(node, (ast.Call)):\n",
    "            self.vector[14] += 1\n",
    "        elif isinstance(node, (ast.keyword)):\n",
    "            self.vector[15] += 1\n",
    "        elif isinstance(node, (ast.While)):\n",
    "            self.vector[16] += 1\n",
    "        elif isinstance(node, (ast.List)):\n",
    "            self.vector[17] += 1\n",
    "        elif isinstance(node, (ast.Attribute)):\n",
    "            self.vector[18] += 1\n",
    "        elif isinstance(node, (ast.Pass)):\n",
    "            self.vector[19] += 1\n",
    "        elif isinstance(node, (ast.Name)):\n",
    "            self.vector[20] += 1\n",
    "        elif isinstance(node, (ast.Subscript)):\n",
    "            self.vector[21] += 1\n",
    "        elif isinstance(node, (ast.Load)):\n",
    "            self.vector[22] += 1\n",
    "        elif isinstance(node, (ast.If)):\n",
    "            self.vector[23] += 1\n",
    "        elif isinstance(node, (ast.In)):\n",
    "            self.vector[24] += 1\n",
    "        elif isinstance(node, (ast.Index)):\n",
    "            self.vector[25] += 1\n",
    "        elif isinstance(node, (ast.ClassDef)):\n",
    "            self.vector[26] += 1\n",
    "        elif isinstance(node, (ast.Module)):\n",
    "            self.vector[27] += 1\n",
    "        elif isinstance(node, (ast.ImportFrom)):\n",
    "            self.vector[28] += 1\n",
    "        elif isinstance(node, (ast.FunctionDef)):\n",
    "            self.vector[29] += 1\n",
    "        elif isinstance(node, (ast.alias)):\n",
    "            self.vector[30] += 1\n",
    "        elif isinstance(node, (ast.Try)):\n",
    "            self.vector[31] += 1\n",
    "\n",
    "        ast.NodeVisitor.generic_visit(self, node)"
   ]
  },
  {
   "cell_type": "code",
   "execution_count": 3,
   "metadata": {},
   "outputs": [],
   "source": [
    "def parse_code(code):\n",
    "    '''\n",
    "    将一段代码，解析为一个1*32的向量，如果不能解析，则返回None\n",
    "    :param code:\n",
    "    :return:\n",
    "    '''\n",
    "    try:\n",
    "        result = ast.parse(code)\n",
    "        visitor = VectorCollector()\n",
    "        visitor.generic_visit(result)\n",
    "        return visitor.vector\n",
    "\n",
    "    except Exception as e:\n",
    "        print(e)\n",
    "        return None\n"
   ]
  },
  {
   "cell_type": "code",
   "execution_count": 4,
   "metadata": {},
   "outputs": [],
   "source": [
    "def isComment(line):\n",
    "    stripped = line.strip()\n",
    "    if stripped and stripped[0] == '#':\n",
    "        return True\n",
    "    return False\n",
    "\n",
    "\n",
    "def isMagic(line):\n",
    "    stripped = line.strip()\n",
    "    if stripped and stripped[0] == '%':\n",
    "        return True\n",
    "    return False\n",
    "\n",
    "\n",
    "def sanitize(txt):\n",
    "    lines = txt.split('\\n')\n",
    "    okLines = [l for l in lines if not isComment(l)]\n",
    "    okLines = [l for l in okLines if not isMagic(l)]\n",
    "    return '\\n'.join(okLines)\n",
    "\n",
    "\n",
    "def getSourceWithoutTests(filename):\n",
    "    nb = nbformat.read(filename, 4)\n",
    "    allCode = ''\n",
    "    for c in nb.cells:\n",
    "        if c['cell_type'] == 'code':\n",
    "            if 'nbgrader' in c['metadata'].keys():\n",
    "                if c['metadata'].get('editable', True) == False:\n",
    "                    if c['metadata']['nbgrader'].get('locked', False) == True:\n",
    "                        # this is a test cell, remove\n",
    "                        continue\n",
    "\n",
    "            # print(c)\n",
    "            allCode += '\\n'\n",
    "            allCode += sanitize(c['source'])\n",
    "\n",
    "    return allCode"
   ]
  },
  {
   "cell_type": "code",
   "execution_count": 5,
   "metadata": {},
   "outputs": [],
   "source": [
    "# def bit_product_sum(x, y):\n",
    "#     return sum([item[0] * item[1] for item in zip(x, y)])\n",
    "\n",
    "\n",
    "def cosine_similarity(x, y, norm=False):\n",
    "#     \"\"\" 计算两个向量x和y的余弦相似度 \"\"\"\n",
    "    assert len(x) == len(y), \"len(x) != len(y)\"\n",
    "    zero_list = [0] * len(x)\n",
    "    if x == zero_list or y == zero_list:\n",
    "        return float(1) if x == y else float(0)\n",
    "\n",
    "#     # method 1\n",
    "    \n",
    "    res = np.array([[x[i] * y[i], x[i] * x[i], y[i] * y[i]] for i in range(len(x))])\n",
    "    cos = sum(res[:, 0]) / (np.sqrt(sum(res[:, 1])) * np.sqrt(sum(res[:, 2])))\n",
    "\n",
    "    # method 2\n",
    "#     cos = bit_product_sum(x, y) / (np.sqrt(bit_product_sum(x, x)) * np.sqrt(bit_product_sum(y, y)))\n",
    "\n",
    "    # method 3\n",
    "#     dot_product, square_sum_x, square_sum_y = 0, 0, 0\n",
    "#     for i in range(len(x)):\n",
    "#         dot_product += x[i] * y[i]\n",
    "#         square_sum_x += x[i] * x[i]\n",
    "#         square_sum_y += y[i] * y[i]\n",
    "#     cos = dot_product / (np.sqrt(square_sum_x) * np.sqrt(square_sum_y))\n",
    "#    method 4\n",
    "#     AB = 0\n",
    "#     A2 = 0\n",
    "#     B2 = 0\n",
    "#     for a,b in zip(x,y):\n",
    "#         AB +=a*b\n",
    "#         A2 +=a**2\n",
    "#         B2 +=b**2\n",
    "#     cos = AB/(math.sqrt(A2)*math.sqrt(B2))\n",
    "#     print (cos)\n",
    "#     return cos\n",
    "    if -1<= cos <= 0:\n",
    "        return (0.5 * cos + 0.5)\n",
    "    else:\n",
    "        return cos\n",
    "#     return 0.5 * cos + 0.5 if norm else cos  # 归一化到[0, 1]区间内"
   ]
  },
  {
   "cell_type": "code",
   "execution_count": 6,
   "metadata": {},
   "outputs": [],
   "source": [
    "# Levenshtein distance\n",
    "def edit_distance(code1, code2):\n",
    "    return 1 - (Levenshtein.distance(code1, code2)) / (max(len(code1), len(code2)))"
   ]
  },
  {
   "cell_type": "code",
   "execution_count": 7,
   "metadata": {},
   "outputs": [],
   "source": [
    "def generate_str(ref, candidate, percent, error=False):\n",
    "    '''\n",
    "    通过模板，生成HTML结果文件中的内容\n",
    "    :param ref:\n",
    "    :param candidate:\n",
    "    :param percent:\n",
    "    :return:\n",
    "    '''\n",
    "    if error is True:\n",
    "        li_template = '''<li style=\"color:green;\"><span>invalid file : {0}</li></br>'''\n",
    "        return li_template.format(ref)\n",
    "\n",
    "    li_template = '''<li style=\"color:{0};\"><span>File 1 : {1}&nbsp;&nbsp;&nbsp;&nbsp;&nbsp;&nbsp;&nbsp;&nbsp;&nbsp;</span><span>File 2 : {2}&nbsp;</span><span>&nbsp;&nbsp;&nbsp;&nbsp;&nbsp;&nbsp;&nbsp;&nbsp;&nbsp;{3}%</span></li></br>'''\n",
    "    if percent >= 70:\n",
    "        color = 'red'\n",
    "    elif percent >= 30:\n",
    "        color = 'blue'\n",
    "    else:\n",
    "        color = 'black'\n",
    "    return li_template.format(color, ref, candidate, round(percent, 2))"
   ]
  },
  {
   "cell_type": "code",
   "execution_count": 8,
   "metadata": {},
   "outputs": [
    {
     "name": "stdout",
     "output_type": "stream",
     "text": [
      "expected an indented block (<unknown>, line 43)\n",
      "invalid syntax (<unknown>, line 25)\n",
      "expected an indented block (<unknown>, line 28)\n",
      "unexpected indent (<unknown>, line 68)\n",
      "invalid syntax (<unknown>, line 56)\n",
      "invalid syntax (<unknown>, line 64)\n",
      "invalid syntax (<unknown>, line 61)\n",
      "invalid ['./data/Assignment 8/RandomWalk/last/07bd49.ipynb', './data/Assignment 8/RandomWalk/last/13503f.ipynb', './data/Assignment 8/RandomWalk/last/1bf4cc.ipynb', './data/Assignment 8/RandomWalk/last/1e5a7c.ipynb', './data/Assignment 8/RandomWalk/last/5c1549.ipynb', './data/Assignment 8/RandomWalk/last/99e233.ipynb', './data/Assignment 8/RandomWalk/last/e0a742.ipynb']\n",
      "./data/Assignment 8/RandomWalk/last/07bd49.ipynb\n",
      "./data/Assignment 8/RandomWalk/last/13503f.ipynb\n",
      "./data/Assignment 8/RandomWalk/last/1bf4cc.ipynb\n",
      "./data/Assignment 8/RandomWalk/last/1e5a7c.ipynb\n",
      "./data/Assignment 8/RandomWalk/last/5c1549.ipynb\n",
      "./data/Assignment 8/RandomWalk/last/99e233.ipynb\n",
      "./data/Assignment 8/RandomWalk/last/e0a742.ipynb\n"
     ]
    }
   ],
   "source": [
    "if __name__ == '__main__':\n",
    "    # 用来生成结果文件的模板\n",
    "    html_template = '''\n",
    "        <!DOCTYPE html>\n",
    "    <html lang=\"en\">\n",
    "    <head>\n",
    "        <meta charset=\"UTF-8\">\n",
    "        <title>抄袭检测</title>\n",
    "    </head>\n",
    "    <body>\n",
    "    <h1 style=\"text-align: center;\">抄袭检测</h1>\n",
    "    <ul>\n",
    "      {0}\n",
    "    </ul>\n",
    "    </body>\n",
    "    \n",
    "    </html>\n",
    "    '''\n",
    "    \n",
    "    # 读取所有的文件目录\n",
    "    path = './data/Assignment 8/RandomWalk/last/'\n",
    "\n",
    "    filenames = []\n",
    "    for filename in os.listdir(path):\n",
    "        file_path = os.path.join(path, filename)\n",
    "        if file_path.endswith('ipynb'):\n",
    "            filenames.append(file_path)\n",
    "    invalid_files = []\n",
    "    valid_files = []\n",
    "    vectors = []\n",
    "    codes = []\n",
    "\n",
    "    for filename in filenames:\n",
    "        code = getSourceWithoutTests(filename)\n",
    "        vector = parse_code(code)\n",
    "        if vector is None :\n",
    "            invalid_files.append(filename)\n",
    "        else:\n",
    "            valid_files.append(filename)\n",
    "            vectors.append(vector)\n",
    "            codes.append(code)\n",
    "    # 计算平均值\n",
    "    avg_vector = [0 for i in range(32)]\n",
    "    for index in range(len(vectors)):\n",
    "        cur_vector = vectors[index]\n",
    "        for i in range(32):\n",
    "            avg_vector[i] += cur_vector[i]\n",
    "    avg_vector = [i/len(vectors) for i in avg_vector]\n",
    "    for index in range(len(vectors)):\n",
    "        cur_vector = vectors[index]\n",
    "        for i in range(32):\n",
    "            cur_vector[i] -= avg_vector[i]\n",
    "#     print(avg_vector)\n",
    "\n",
    "    li_str = ''\n",
    "#     print('valid',valid_files)\n",
    "    print('invalid', invalid_files)\n",
    "    # write invalied files\n",
    "    for file in invalid_files:\n",
    "        print(file)\n",
    "        li_str += generate_str(file, None, 0, True)\n",
    "    results = []\n",
    "    for i in range(len(valid_files)):\n",
    "        source_file = valid_files[i]\n",
    "        for j in range(i + 1, len(valid_files)):\n",
    "            target_file = valid_files[j]\n",
    "            cos_dis = cosine_similarity(vectors[i], vectors[j])\n",
    "            # edit_dis = edit_distance(codes[i], codes[j])\n",
    "#             print(i, j, cos_dis)\n",
    "            results.append([source_file, target_file, cos_dis])\n",
    "    # 排序\n",
    "    sorted_results = reversed(sorted(results, key=lambda x: x[-1]))\n",
    "    # 生成html内容\n",
    "    for result in sorted_results:\n",
    "        li_str += generate_str(result[0], result[1], result[2]*100)\n",
    "    # 将结果写入html\n",
    "\n",
    "    with open('比较结果.html', 'w') as f:\n",
    "        f.write(html_template.format(li_str))\n"
   ]
  },
  {
   "cell_type": "code",
   "execution_count": 59,
   "metadata": {},
   "outputs": [
    {
     "name": "stdout",
     "output_type": "stream",
     "text": [
      "[3, 17, 0, 9, 0, 8, 11, 18, 41, 51, 1, 0, 49, 2, 61, 25, 0, 2, 57, 0, 169, 11, 197, 0, 0, 10, 1, 1, 1, 3, 2, 0]\n"
     ]
    }
   ],
   "source": [
    "file=('./data/Assignment 8/RandomWalk/last/test/0bca19.ipynb')\n",
    "\n",
    "f_code = getSourceWithoutTests(file)\n",
    "result = ast.parse(f_code)\n",
    "visitor = VectorCollector()\n",
    "visitor.generic_visit(result)\n",
    "print(visitor.vector)\n"
   ]
  },
  {
   "cell_type": "code",
   "execution_count": 31,
   "metadata": {},
   "outputs": [
    {
     "name": "stdout",
     "output_type": "stream",
     "text": [
      "[3, 13, 0, 9, 0, 9, 10, 27, 56, 70, 1, 0, 50, 2, 76, 10, 0, 6, 69, 0, 228, 15, 257, 0, 0, 15, 1, 1, 1, 3, 2, 0]\n"
     ]
    }
   ],
   "source": [
    "file2=('./data/Assignment 8/RandomWalk/last/test/0c8ad5.ipynb')\n",
    "\n",
    "f_code2 = getSourceWithoutTests(file2)\n",
    "result2 = ast.parse(f_code2)\n",
    "visitor2 = VectorCollector()\n",
    "visitor2.generic_visit(result2)\n",
    "print(visitor2.vector)"
   ]
  },
  {
   "cell_type": "code",
   "execution_count": 33,
   "metadata": {},
   "outputs": [
    {
     "name": "stdout",
     "output_type": "stream",
     "text": [
      "[3, 18, 0, 6, 0, 10, 17, 23, 41, 57, 1, 0, 51, 2, 62, 11, 0, 5, 54, 0, 193, 16, 217, 0, 0, 16, 1, 1, 1, 3, 2, 0]\n"
     ]
    }
   ],
   "source": [
    "file3=('./data/Assignment 8/RandomWalk/last/test/0d5192.ipynb')\n",
    "\n",
    "f_code3 = getSourceWithoutTests(file3)\n",
    "result3 = ast.parse(f_code3)\n",
    "visitor3 = VectorCollector()\n",
    "visitor3.generic_visit(result3)\n",
    "print(visitor3.vector)"
   ]
  },
  {
   "cell_type": "code",
   "execution_count": 34,
   "metadata": {
    "scrolled": true
   },
   "outputs": [
    {
     "name": "stdout",
     "output_type": "stream",
     "text": [
      "[0.0, -3.0, 0.0, 1.0, 0.0, 0.0, -2.666666666666666, 4.333333333333332, 10.0, 10.666666666666664, 0.0, 0.0, 0.0, 0.0, 9.666666666666671, -5.333333333333334, 0.0, 1.666666666666667, 9.0, 0.0, 31.333333333333343, 1.0, 33.33333333333334, 0.0, 0.0, 1.333333333333334, 0.0, 0.0, 0.0, 0.0, 0.0, 0.0]\n"
     ]
    }
   ],
   "source": [
    "print(list(np.array(visitor2.vector)-np.array(avg_vector)))"
   ]
  },
  {
   "cell_type": "code",
   "execution_count": 35,
   "metadata": {},
   "outputs": [
    {
     "name": "stdout",
     "output_type": "stream",
     "text": [
      "[3.0, 16.0, 0.0, 8.0, 0.0, 9.0, 12.666666666666666, 22.666666666666668, 46.0, 59.333333333333336, 1.0, 0.0, 50.0, 2.0, 66.33333333333333, 15.333333333333334, 0.0, 4.333333333333333, 60.0, 0.0, 196.66666666666666, 14.0, 223.66666666666666, 0.0, 0.0, 13.666666666666666, 1.0, 1.0, 1.0, 3.0, 2.0, 0.0]\n"
     ]
    }
   ],
   "source": [
    "print(avg_vector)"
   ]
  },
  {
   "cell_type": "code",
   "execution_count": 37,
   "metadata": {},
   "outputs": [
    {
     "name": "stdout",
     "output_type": "stream",
     "text": [
      "0.15290994481588788\n"
     ]
    }
   ],
   "source": [
    "\n",
    "cos_dis = cosine_similarity(list(np.array(visitor2.vector)-np.array(avg_vector)),list(np.array(visitor3.vector)-np.array(avg_vector)))\n",
    "\n",
    "# print(0.5*cos_dis+0.5)\n",
    "print (cos_dis)"
   ]
  },
  {
   "cell_type": "code",
   "execution_count": null,
   "metadata": {},
   "outputs": [],
   "source": []
  }
 ],
 "metadata": {
  "kernelspec": {
   "display_name": "Python 3",
   "language": "python",
   "name": "python3"
  },
  "language_info": {
   "codemirror_mode": {
    "name": "ipython",
    "version": 3
   },
   "file_extension": ".py",
   "mimetype": "text/x-python",
   "name": "python",
   "nbconvert_exporter": "python",
   "pygments_lexer": "ipython3",
   "version": "3.7.6"
  }
 },
 "nbformat": 4,
 "nbformat_minor": 4
}
