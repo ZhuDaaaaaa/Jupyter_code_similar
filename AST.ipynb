{
 "cells": [
  {
   "cell_type": "code",
   "execution_count": 1,
   "metadata": {},
   "outputs": [],
   "source": [
    "import ast\n",
    "import types\n",
    "import sys\n",
    "import difflib\n",
    "import operator\n",
    "import argparse\n",
    "import itertools\n",
    "import astunparse\n",
    "from collections import Counter\n",
    "import os\n",
    "import nbformat"
   ]
  },
  {
   "cell_type": "code",
   "execution_count": 7,
   "metadata": {},
   "outputs": [],
   "source": [
    "def isComment(line):\n",
    "    stripped = line.strip()\n",
    "    if stripped and stripped[0] == '#':\n",
    "        return True\n",
    "    return False\n",
    "\n",
    "def isMagic(line):\n",
    "    stripped = line.strip()\n",
    "    if stripped and stripped[0] == '%':\n",
    "        return True\n",
    "    return False\n",
    "\n",
    "def sanitize(txt):\n",
    "    lines = txt.split('\\n')\n",
    "    okLines = [l for l in lines if not isComment(l)]\n",
    "    okLines = [l for l in okLines if not isMagic(l)]\n",
    "    return '\\n'.join(okLines)\n",
    "\n",
    "def getSourceWithoutTests(filename):\n",
    "    nb = nbformat.read(filename, 4)\n",
    "    allCode = ''\n",
    "    fwrite = open(\"%s.backup\"%filename,'w')\n",
    "    for c in nb.cells:\n",
    "        if c['cell_type'] == 'code':\n",
    "            if 'nbgrader' in c['metadata'].keys():\n",
    "                if c['metadata'].get('editable', True) == False:\n",
    "                    if  c['metadata']['nbgrader'].get('locked',False) == True:\n",
    "                        # this is a test cell, remove\n",
    "                        continue\n",
    "\n",
    "            #print(c)\n",
    "            allCode += '\\n'\n",
    "            allCode += sanitize(c['source'])\n",
    "            \n",
    "    return allCode\n"
   ]
  },
  {
   "cell_type": "code",
   "execution_count": 12,
   "metadata": {},
   "outputs": [],
   "source": [
    "wd='./data/Assignment 8/RandomWalk/last/'\n",
    "f = '01bb4a.ipynb'\n",
    "filename = wd + f\n",
    "new_datapath = './New_data./new_file.txt'\n",
    "new_cont = getSourceWithoutTests(filename)\n",
    "new_file = open(new_datapath,'w')\n",
    "new_file.write(new_cont)\n",
    "new_file.close()"
   ]
  },
  {
   "cell_type": "code",
   "execution_count": 16,
   "metadata": {},
   "outputs": [],
   "source": [
    "file=open(\"./New_data./new_file.txt\")\n",
    "s_code = file.read()\n",
    "r_node = ast.parse(s_code,mode='exec')\n"
   ]
  },
  {
   "cell_type": "code",
   "execution_count": null,
   "metadata": {},
   "outputs": [],
   "source": []
  }
 ],
 "metadata": {
  "kernelspec": {
   "display_name": "Python 3",
   "language": "python",
   "name": "python3"
  },
  "language_info": {
   "codemirror_mode": {
    "name": "ipython",
    "version": 3
   },
   "file_extension": ".py",
   "mimetype": "text/x-python",
   "name": "python",
   "nbconvert_exporter": "python",
   "pygments_lexer": "ipython3",
   "version": "3.7.6"
  }
 },
 "nbformat": 4,
 "nbformat_minor": 4
}
